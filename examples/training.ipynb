{
 "cells": [
  {
   "cell_type": "code",
   "execution_count": 19,
   "metadata": {},
   "outputs": [],
   "source": [
    "using BIPs\n",
    "using Statistics\n",
    "#using LazyArtifacts\n",
    "using Pkg.Artifacts"
   ]
  },
  {
   "cell_type": "code",
   "execution_count": 2,
   "metadata": {},
   "outputs": [
    {
     "data": {
      "text/plain": [
       "\"../DataLake/raw/val.h5\""
      ]
     },
     "metadata": {},
     "output_type": "display_data"
    }
   ],
   "source": [
    "val_data_path = \"../DataLake/raw/val.h5\""
   ]
  },
  {
   "cell_type": "code",
   "execution_count": 20,
   "metadata": {},
   "outputs": [
    {
     "ename": "LoadError",
     "evalue": "LoadError: Cannot locate '(Julia)Artifacts.toml' file when attempting to use artifact 'https://zenodo.org/record/2603256/files/val.h5?download=1' in 'Main'\nin expression starting at /home/josemm/MyDocs/BIPs.jl/examples/training.ipynb:2",
     "output_type": "error",
     "traceback": [
      "LoadError: Cannot locate '(Julia)Artifacts.toml' file when attempting to use artifact 'https://zenodo.org/record/2603256/files/val.h5?download=1' in 'Main'\n",
      "in expression starting at /home/josemm/MyDocs/BIPs.jl/examples/training.ipynb:2\n",
      "\n",
      "Stacktrace:\n",
      "  [1] error(s::String)\n",
      "    @ Base ./error.jl:33\n",
      "  [2] var\"@artifact_str\"(__source__::LineNumberNode, __module__::Module, name::Any, platform::Any)\n",
      "    @ Artifacts /z1-josemm/josemm/Downloads/julia-1.7.3/share/julia/stdlib/v1.7/Artifacts/src/Artifacts.jl:647\n",
      "  [3] var\"@artifact_str\"(__source__::LineNumberNode, __module__::Module, name::Any)\n",
      "    @ Artifacts /z1-josemm/josemm/Downloads/julia-1.7.3/share/julia/stdlib/v1.7/Artifacts/src/Artifacts.jl:641\n",
      "  [4] eval\n",
      "    @ ./boot.jl:373 [inlined]\n",
      "  [5] include_string(mapexpr::typeof(REPL.softscope), mod::Module, code::String, filename::String)\n",
      "    @ Base ./loading.jl:1196\n",
      "  [6] #invokelatest#2\n",
      "    @ ./essentials.jl:716 [inlined]\n",
      "  [7] invokelatest\n",
      "    @ ./essentials.jl:714 [inlined]\n",
      "  [8] (::VSCodeServer.var\"#192#193\"{VSCodeServer.NotebookRunCellArguments, String})()\n",
      "    @ VSCodeServer ~/.vscode-server/extensions/julialang.language-julia-1.6.28/scripts/packages/VSCodeServer/src/serve_notebook.jl:19\n",
      "  [9] withpath(f::VSCodeServer.var\"#192#193\"{VSCodeServer.NotebookRunCellArguments, String}, path::String)\n",
      "    @ VSCodeServer ~/.vscode-server/extensions/julialang.language-julia-1.6.28/scripts/packages/VSCodeServer/src/repl.jl:219\n",
      " [10] notebook_runcell_request(conn::VSCodeServer.JSONRPC.JSONRPCEndpoint{Base.PipeEndpoint, Base.PipeEndpoint}, params::VSCodeServer.NotebookRunCellArguments)\n",
      "    @ VSCodeServer ~/.vscode-server/extensions/julialang.language-julia-1.6.28/scripts/packages/VSCodeServer/src/serve_notebook.jl:13\n",
      " [11] dispatch_msg(x::VSCodeServer.JSONRPC.JSONRPCEndpoint{Base.PipeEndpoint, Base.PipeEndpoint}, dispatcher::VSCodeServer.JSONRPC.MsgDispatcher, msg::Dict{String, Any})\n",
      "    @ VSCodeServer.JSONRPC ~/.vscode-server/extensions/julialang.language-julia-1.6.28/scripts/packages/JSONRPC/src/typed.jl:67\n",
      " [12] serve_notebook(pipename::String, outputchannel_logger::Base.CoreLogging.SimpleLogger; crashreporting_pipename::String)\n",
      "    @ VSCodeServer ~/.vscode-server/extensions/julialang.language-julia-1.6.28/scripts/packages/VSCodeServer/src/serve_notebook.jl:139\n",
      " [13] top-level scope\n",
      "    @ ~/.vscode-server/extensions/julialang.language-julia-1.6.28/scripts/notebook/notebook.jl:32"
     ]
    }
   ],
   "source": [
    "#train_data_path = @artifact_str\n",
    "val_data_path = artifact\"https://zenodo.org/record/2603256/files/val.h5?download=1\""
   ]
  },
  {
   "cell_type": "code",
   "execution_count": 3,
   "metadata": {},
   "outputs": [
    {
     "ename": "ErrorException",
     "evalue": "unable to determine if ../DataLake/raw/train.h5 is accessible in the HDF5 format (file may not exist)",
     "output_type": "error",
     "traceback": [
      "unable to determine if ../DataLake/raw/train.h5 is accessible in the HDF5 format (file may not exist)\n",
      "\n",
      "Stacktrace:\n",
      " [1] error(s::String)\n",
      "   @ Base ./error.jl:33\n",
      " [2] h5open(filename::String, mode::String, fapl::HDF5.FileAccessProperties, fcpl::HDF5.FileCreateProperties; swmr::Bool)\n",
      "   @ HDF5 ~/.julia/packages/HDF5/7zvRl/src/HDF5.jl:242\n",
      " [3] h5open(filename::String, mode::String; swmr::Bool, fapl::HDF5.FileAccessProperties, fcpl::HDF5.FileCreateProperties, pv::Base.Pairs{Symbol, Union{}, Tuple{}, NamedTuple{(), Tuple{}}})\n",
      "   @ HDF5 ~/.julia/packages/HDF5/7zvRl/src/HDF5.jl:264\n",
      " [4] h5open\n",
      "   @ ~/.julia/packages/HDF5/7zvRl/src/HDF5.jl:261 [inlined]\n",
      " [5] read_TQ(filepath::String; n_limit::Int64)\n",
      "   @ BIPs.DatasetGenerator.DataReader ~/MyDocs/BIPs.jl/src/data/reader.jl:26\n",
      " [6] read_data(dataset::String, filename::String; n_limit::Int64)\n",
      "   @ BIPs.DatasetGenerator ~/MyDocs/BIPs.jl/src/data/generator.jl:14\n",
      " [7] read_data(dataset::String, filename::String)\n",
      "   @ BIPs.DatasetGenerator ~/MyDocs/BIPs.jl/src/data/generator.jl:13\n",
      " [8] top-level scope\n",
      "   @ ~/MyDocs/BIPs.jl/examples/training.ipynb:1"
     ]
    }
   ],
   "source": [
    "train_jets, train_labels = BIPs.read_data(\"TQ\", train_data_path)\n",
    "train_labels = [reinterpret(Bool, b == 1.0) for b in train_labels]\n",
    "length(train_jets)"
   ]
  },
  {
   "cell_type": "code",
   "execution_count": 4,
   "metadata": {},
   "outputs": [
    {
     "ename": "ErrorException",
     "evalue": "unable to determine if ../DataLake/raw/val.h5 is accessible in the HDF5 format (file may not exist)",
     "output_type": "error",
     "traceback": [
      "unable to determine if ../DataLake/raw/val.h5 is accessible in the HDF5 format (file may not exist)\n",
      "\n",
      "Stacktrace:\n",
      " [1] error(s::String)\n",
      "   @ Base ./error.jl:33\n",
      " [2] h5open(filename::String, mode::String, fapl::HDF5.FileAccessProperties, fcpl::HDF5.FileCreateProperties; swmr::Bool)\n",
      "   @ HDF5 ~/.julia/packages/HDF5/7zvRl/src/HDF5.jl:242\n",
      " [3] h5open(filename::String, mode::String; swmr::Bool, fapl::HDF5.FileAccessProperties, fcpl::HDF5.FileCreateProperties, pv::Base.Pairs{Symbol, Union{}, Tuple{}, NamedTuple{(), Tuple{}}})\n",
      "   @ HDF5 ~/.julia/packages/HDF5/7zvRl/src/HDF5.jl:264\n",
      " [4] h5open\n",
      "   @ ~/.julia/packages/HDF5/7zvRl/src/HDF5.jl:261 [inlined]\n",
      " [5] read_TQ(filepath::String; n_limit::Int64)\n",
      "   @ BIPs.DatasetGenerator.DataReader ~/MyDocs/BIPs.jl/src/data/reader.jl:26\n",
      " [6] read_data(dataset::String, filename::String; n_limit::Int64)\n",
      "   @ BIPs.DatasetGenerator ~/MyDocs/BIPs.jl/src/data/generator.jl:14\n",
      " [7] read_data(dataset::String, filename::String)\n",
      "   @ BIPs.DatasetGenerator ~/MyDocs/BIPs.jl/src/data/generator.jl:13\n",
      " [8] top-level scope\n",
      "   @ ~/MyDocs/BIPs.jl/examples/training.ipynb:1"
     ]
    }
   ],
   "source": [
    "val_jets, val_labels = BIPs.read_data(\"TQ\", val_data_path)\n",
    "val_labels = [reinterpret(Bool, b == 1.0) for b in val_labels]\n",
    "length(val_jets)"
   ]
  },
  {
   "cell_type": "code",
   "execution_count": 5,
   "metadata": {},
   "outputs": [
    {
     "ename": "UndefVarError",
     "evalue": "UndefVarError: train_jets not defined",
     "output_type": "error",
     "traceback": [
      "UndefVarError: train_jets not defined\n",
      "\n",
      "Stacktrace:\n",
      " [1] top-level scope\n",
      "   @ ~/MyDocs/BIPs.jl/examples/training.ipynb:1"
     ]
    }
   ],
   "source": [
    "train_transf_jets = data2hyp(train_jets)\n",
    "println(\"Transformed jets: \", length(train_transf_jets))"
   ]
  },
  {
   "cell_type": "code",
   "execution_count": 6,
   "metadata": {},
   "outputs": [
    {
     "ename": "UndefVarError",
     "evalue": "UndefVarError: val_jets not defined",
     "output_type": "error",
     "traceback": [
      "UndefVarError: val_jets not defined\n",
      "\n",
      "Stacktrace:\n",
      " [1] top-level scope\n",
      "   @ ~/MyDocs/BIPs.jl/examples/training.ipynb:1"
     ]
    }
   ],
   "source": [
    "val_transf_jets = data2hyp(val_jets)\n",
    "println(\"Transformed jets: \", length(val_transf_jets))"
   ]
  },
  {
   "cell_type": "code",
   "execution_count": 7,
   "metadata": {},
   "outputs": [
    {
     "data": {
      "text/plain": [
       "bip_data (generic function with 1 method)"
      ]
     },
     "metadata": {},
     "output_type": "display_data"
    }
   ],
   "source": [
    "f_bip, specs = build_ip(order=4, levels=7)\n",
    "    \n",
    "function bip_data(dataset_jets)\n",
    "    storage = zeros(length(dataset_jets), length(specs))\n",
    "    for i = 1:length(dataset_jets)\n",
    "        storage[i, :] = f_bip(dataset_jets[i])\n",
    "    end\n",
    "    storage[:, 2:end]\n",
    "end"
   ]
  },
  {
   "cell_type": "code",
   "execution_count": 8,
   "metadata": {},
   "outputs": [
    {
     "ename": "UndefVarError",
     "evalue": "UndefVarError: train_transf_jets not defined",
     "output_type": "error",
     "traceback": [
      "UndefVarError: train_transf_jets not defined\n",
      "\n",
      "Stacktrace:\n",
      " [1] top-level scope\n",
      "   @ ~/MyDocs/BIPs.jl/examples/training.ipynb:1"
     ]
    }
   ],
   "source": [
    "train_embedded_jets = bip_data(train_transf_jets)\n",
    "println(\"Embedded train jets correclty\")\n",
    "val_embedded_jets = bip_data(val_transf_jets)\n",
    "println(\"Embedded test jets correclty\")"
   ]
  },
  {
   "cell_type": "markdown",
   "metadata": {},
   "source": [
    "Now, lets fit a simple model to the data.\n"
   ]
  },
  {
   "cell_type": "code",
   "execution_count": 9,
   "metadata": {},
   "outputs": [],
   "source": [
    "using PyCall\n",
    "@pyimport sklearn.ensemble as sk_ensemble\n",
    "@pyimport sklearn.metrics as sk_metrics\n",
    "@pyimport sklearn.model_selection as sk_model_selection"
   ]
  },
  {
   "cell_type": "code",
   "execution_count": 10,
   "metadata": {},
   "outputs": [
    {
     "ename": "UndefVarError",
     "evalue": "UndefVarError: X_train not defined",
     "output_type": "error",
     "traceback": [
      "UndefVarError: X_train not defined\n",
      "\n",
      "Stacktrace:\n",
      " [1] top-level scope\n",
      "   @ ~/MyDocs/BIPs.jl/examples/training.ipynb:1"
     ]
    }
   ],
   "source": [
    "GCT = sk_ensemble.HistGradientBoostingClassifier(verbose=true).fit(X_train, train_labels)"
   ]
  },
  {
   "cell_type": "markdown",
   "metadata": {},
   "source": [
    "# Lest test how we do performance"
   ]
  },
  {
   "cell_type": "code",
   "execution_count": 11,
   "metadata": {},
   "outputs": [
    {
     "data": {
      "text/plain": [
       "\"../DataLake/raw/test.h5\""
      ]
     },
     "metadata": {},
     "output_type": "display_data"
    }
   ],
   "source": [
    "test_data_path = \"../DataLake/raw/test.h5\""
   ]
  },
  {
   "cell_type": "code",
   "execution_count": 12,
   "metadata": {},
   "outputs": [
    {
     "ename": "ErrorException",
     "evalue": "unable to determine if ../DataLake/raw/test.h5 is accessible in the HDF5 format (file may not exist)",
     "output_type": "error",
     "traceback": [
      "unable to determine if ../DataLake/raw/test.h5 is accessible in the HDF5 format (file may not exist)\n",
      "\n",
      "Stacktrace:\n",
      " [1] error(s::String)\n",
      "   @ Base ./error.jl:33\n",
      " [2] h5open(filename::String, mode::String, fapl::HDF5.FileAccessProperties, fcpl::HDF5.FileCreateProperties; swmr::Bool)\n",
      "   @ HDF5 ~/.julia/packages/HDF5/7zvRl/src/HDF5.jl:242\n",
      " [3] h5open(filename::String, mode::String; swmr::Bool, fapl::HDF5.FileAccessProperties, fcpl::HDF5.FileCreateProperties, pv::Base.Pairs{Symbol, Union{}, Tuple{}, NamedTuple{(), Tuple{}}})\n",
      "   @ HDF5 ~/.julia/packages/HDF5/7zvRl/src/HDF5.jl:264\n",
      " [4] h5open\n",
      "   @ ~/.julia/packages/HDF5/7zvRl/src/HDF5.jl:261 [inlined]\n",
      " [5] read_TQ(filepath::String; n_limit::Int64)\n",
      "   @ BIPs.DatasetGenerator.DataReader ~/MyDocs/BIPs.jl/src/data/reader.jl:26\n",
      " [6] read_data(dataset::String, filename::String; n_limit::Int64)\n",
      "   @ BIPs.DatasetGenerator ~/MyDocs/BIPs.jl/src/data/generator.jl:14\n",
      " [7] read_data(dataset::String, filename::String)\n",
      "   @ BIPs.DatasetGenerator ~/MyDocs/BIPs.jl/src/data/generator.jl:13\n",
      " [8] top-level scope\n",
      "   @ ~/MyDocs/BIPs.jl/examples/training.ipynb:1"
     ]
    }
   ],
   "source": [
    "test_jets, test_labels = BIPs.read_data(\"TQ\", test_data_path)\n",
    "test_labels = [reinterpret(Bool, b == 1.0) for b in test_labels]\n",
    "test_transf_jets = data2hyp(test_jets)\n",
    "test_embedded_jets = bip_data(test_transf_jets)"
   ]
  },
  {
   "cell_type": "code",
   "execution_count": 13,
   "metadata": {},
   "outputs": [
    {
     "ename": "UndefVarError",
     "evalue": "UndefVarError: GCT not defined",
     "output_type": "error",
     "traceback": [
      "UndefVarError: GCT not defined\n",
      "\n",
      "Stacktrace:\n",
      " [1] top-level scope\n",
      "   @ ~/MyDocs/BIPs.jl/examples/training.ipynb:1"
     ]
    }
   ],
   "source": [
    "test_preds = GCT.score(X_test, test_labels)"
   ]
  },
  {
   "cell_type": "code",
   "execution_count": 14,
   "metadata": {},
   "outputs": [
    {
     "ename": "UndefVarError",
     "evalue": "UndefVarError: test_labels not defined",
     "output_type": "error",
     "traceback": [
      "UndefVarError: test_labels not defined\n",
      "\n",
      "Stacktrace:\n",
      " [1] top-level scope\n",
      "   @ ~/MyDocs/BIPs.jl/examples/training.ipynb:1"
     ]
    }
   ],
   "source": [
    "print(sk_metrics.classification_report(test_labels, test_preds))"
   ]
  },
  {
   "cell_type": "code",
   "execution_count": 15,
   "metadata": {},
   "outputs": [],
   "source": []
  }
 ],
 "metadata": {
  "kernelspec": {
   "display_name": "Julia 1.7.3",
   "language": "julia",
   "name": "julia-1.7"
  },
  "language_info": {
   "file_extension": ".jl",
   "mimetype": "application/julia",
   "name": "julia",
   "version": "1.7.3"
  },
  "orig_nbformat": 4,
  "vscode": {
   "interpreter": {
    "hash": "f075184c5ef2f0b32d809a510d5efd6bb855cd1f11e474e44795b0201961dbbc"
   }
  }
 },
 "nbformat": 4,
 "nbformat_minor": 2
}
