{
 "cells": [
  {
   "cell_type": "code",
   "execution_count": 1,
   "metadata": {},
   "outputs": [],
   "source": [
    "using BIPs"
   ]
  },
  {
   "cell_type": "code",
   "execution_count": 2,
   "metadata": {},
   "outputs": [
    {
     "data": {
      "text/plain": [
       "\"../DataLake/raw/train.h5\""
      ]
     },
     "metadata": {},
     "output_type": "display_data"
    }
   ],
   "source": [
    "temporal_data_path = \"../DataLake/raw/train.h5\""
   ]
  },
  {
   "cell_type": "code",
   "execution_count": 3,
   "metadata": {},
   "outputs": [
    {
     "data": {
      "text/plain": [
       "1210997"
      ]
     },
     "metadata": {},
     "output_type": "display_data"
    }
   ],
   "source": [
    "train_jets, labels = BIPs.read_data(\"TQ\", temporal_data_path)\n",
    "labels = [reinterpret(Bool, b == 1.0) for b in labels]\n",
    "length(train_jets)"
   ]
  },
  {
   "cell_type": "code",
   "execution_count": 4,
   "metadata": {},
   "outputs": [
    {
     "name": "stdout",
     "output_type": "stream",
     "text": [
      "Transformed jets: 1210997\n"
     ]
    }
   ],
   "source": [
    "train_transf_jets = data2hyp(train_jets)\n",
    "println(\"Transformed jets: \", length(train_transf_jets))"
   ]
  },
  {
   "cell_type": "code",
   "execution_count": 5,
   "metadata": {},
   "outputs": [
    {
     "data": {
      "text/plain": [
       "bip_data (generic function with 1 method)"
      ]
     },
     "metadata": {},
     "output_type": "display_data"
    }
   ],
   "source": [
    "f_bip, specs = build_ip(order=4,\n",
    "    levels=7)\n",
    "    \n",
    "function bip_data(dataset_jets)\n",
    "    storage = zeros(length(dataset_jets), length(specs))\n",
    "    for i = 1:length(dataset_jets)\n",
    "        storage[i, :] = f_bip(dataset_jets[i])\n",
    "    end\n",
    "    storage\n",
    "end"
   ]
  },
  {
   "cell_type": "code",
   "execution_count": 6,
   "metadata": {},
   "outputs": [
    {
     "name": "stdout",
     "output_type": "stream",
     "text": [
      "Embedded jets: 14280076624"
     ]
    }
   ],
   "source": [
    "embedded_jets = bip_data(train_transf_jets)\n",
    "print(\"Embedded jets: \", sizeof(embedded_jets))"
   ]
  },
  {
   "cell_type": "markdown",
   "metadata": {},
   "source": [
    "Now, lets fit a simple model to the data.\n"
   ]
  },
  {
   "cell_type": "code",
   "execution_count": 7,
   "metadata": {},
   "outputs": [],
   "source": [
    "using PyCall\n",
    "@pyimport sklearn.ensemble as sk_ensemble\n",
    "@pyimport sklearn.metrics as sk_metrics\n",
    "@pyimport sklearn.model_selection as sk_model_selection"
   ]
  },
  {
   "cell_type": "code",
   "execution_count": 8,
   "metadata": {},
   "outputs": [
    {
     "name": "stdout",
     "output_type": "stream",
     "text": [
      "Binning 12.852 GB of training data: 44.647 s\n",
      "Binning 1.428 GB of validation data: 0.737 s\n",
      "Fitting gradient boosted rounds:\n",
      "[1/100] 1 tree, 31 leaves, max depth = 8, train loss: 0.62489, val loss: 0.62511, in 0.409s\n",
      "[2/100] 1 tree, 31 leaves, max depth = 9, train loss: 0.56882, val loss: 0.56918, in 0.420s\n",
      "[3/100] 1 tree, 31 leaves, max depth = 8, train loss: 0.52185, val loss: 0.52234, in 0.357s\n",
      "[4/100] 1 tree, 31 leaves, max depth = 10, train loss: 0.48195, val loss: 0.48252, in 0.364s\n",
      "[5/100] 1 tree, 31 leaves, max depth = 9, train loss: 0.44813, val loss: 0.44878, in 0.533s\n",
      "[6/100] 1 tree, 31 leaves, max depth = 9, train loss: 0.41905, val loss: 0.41980, in 0.519s\n",
      "[7/100] 1 tree, 31 leaves, max depth = 10, train loss: 0.39385, val loss: 0.39469, in 0.361s\n",
      "[8/100] 1 tree, 31 leaves, max depth = 9, train loss: 0.37207, val loss: 0.37298, in 0.370s\n",
      "[9/100] 1 tree, 31 leaves, max depth = 10, train loss: 0.35289, val loss: 0.35387, in 0.403s\n",
      "[10/100] 1 tree, 31 leaves, max depth = 9, train loss: 0.33589, val loss: 0.33695, in 0.556s\n",
      "[11/100] 1 tree, 31 leaves, max depth = 11, train loss: 0.32100, val loss: 0.32212, in 0.380s\n",
      "[12/100] 1 tree, 31 leaves, max depth = 9, train loss: 0.30802, val loss: 0.30924, in 0.418s\n",
      "[13/100] 1 tree, 31 leaves, max depth = 9, train loss: 0.29648, val loss: 0.29779, in 0.447s\n",
      "[14/100] 1 tree, 31 leaves, max depth = 11, train loss: 0.28630, val loss: 0.28770, in 0.363s\n",
      "[15/100] 1 tree, 31 leaves, max depth = 9, train loss: 0.27701, val loss: 0.27850, in 0.526s\n",
      "[16/100] 1 tree, 31 leaves, max depth = 10, train loss: 0.26895, val loss: 0.27056, in 0.435s\n",
      "[17/100] 1 tree, 31 leaves, max depth = 10, train loss: 0.26180, val loss: 0.26344, in 0.525s\n",
      "[18/100] 1 tree, 31 leaves, max depth = 9, train loss: 0.25554, val loss: 0.25722, in 0.416s\n",
      "[19/100] 1 tree, 31 leaves, max depth = 8, train loss: 0.24970, val loss: 0.25145, in 0.415s\n",
      "[20/100] 1 tree, 31 leaves, max depth = 11, train loss: 0.24451, val loss: 0.24629, in 0.546s\n",
      "[21/100] 1 tree, 31 leaves, max depth = 11, train loss: 0.23980, val loss: 0.24164, in 0.370s\n",
      "[22/100] 1 tree, 31 leaves, max depth = 9, train loss: 0.23564, val loss: 0.23758, in 0.393s\n",
      "[23/100] 1 tree, 31 leaves, max depth = 9, train loss: 0.23196, val loss: 0.23393, in 0.430s\n",
      "[24/100] 1 tree, 31 leaves, max depth = 9, train loss: 0.22860, val loss: 0.23067, in 0.442s\n",
      "[25/100] 1 tree, 31 leaves, max depth = 11, train loss: 0.22527, val loss: 0.22736, in 0.518s\n",
      "[26/100] 1 tree, 31 leaves, max depth = 11, train loss: 0.22259, val loss: 0.22471, in 0.423s\n",
      "[27/100] 1 tree, 31 leaves, max depth = 13, train loss: 0.22004, val loss: 0.22222, in 0.447s\n",
      "[28/100] 1 tree, 31 leaves, max depth = 11, train loss: 0.21783, val loss: 0.22007, in 0.412s\n",
      "[29/100] 1 tree, 31 leaves, max depth = 12, train loss: 0.21562, val loss: 0.21790, in 0.459s\n",
      "[30/100] 1 tree, 31 leaves, max depth = 12, train loss: 0.21379, val loss: 0.21611, in 0.520s\n",
      "[31/100] 1 tree, 31 leaves, max depth = 9, train loss: 0.21206, val loss: 0.21445, in 0.452s\n",
      "[32/100] 1 tree, 31 leaves, max depth = 10, train loss: 0.21030, val loss: 0.21276, in 0.391s\n",
      "[33/100] 1 tree, 31 leaves, max depth = 10, train loss: 0.20884, val loss: 0.21135, in 0.436s\n",
      "[34/100] 1 tree, 31 leaves, max depth = 11, train loss: 0.20754, val loss: 0.21009, in 0.462s\n",
      "[35/100] 1 tree, 31 leaves, max depth = 9, train loss: 0.20631, val loss: 0.20893, in 0.507s\n",
      "[36/100] 1 tree, 31 leaves, max depth = 10, train loss: 0.20519, val loss: 0.20785, in 0.384s\n",
      "[37/100] 1 tree, 31 leaves, max depth = 9, train loss: 0.20413, val loss: 0.20681, in 0.396s\n",
      "[38/100] 1 tree, 31 leaves, max depth = 10, train loss: 0.20321, val loss: 0.20594, in 0.431s\n",
      "[39/100] 1 tree, 31 leaves, max depth = 10, train loss: 0.20232, val loss: 0.20509, in 0.398s\n",
      "[40/100] 1 tree, 31 leaves, max depth = 11, train loss: 0.20154, val loss: 0.20434, in 0.620s\n",
      "[41/100] 1 tree, 31 leaves, max depth = 8, train loss: 0.20077, val loss: 0.20359, in 0.434s\n",
      "[42/100] 1 tree, 31 leaves, max depth = 10, train loss: 0.20003, val loss: 0.20288, in 0.394s\n",
      "[43/100] 1 tree, 31 leaves, max depth = 9, train loss: 0.19937, val loss: 0.20227, in 0.375s\n",
      "[44/100] 1 tree, 31 leaves, max depth = 12, train loss: 0.19871, val loss: 0.20162, in 0.433s\n",
      "[45/100] 1 tree, 31 leaves, max depth = 10, train loss: 0.19806, val loss: 0.20102, in 0.521s\n",
      "[46/100] 1 tree, 31 leaves, max depth = 11, train loss: 0.19748, val loss: 0.20041, in 0.399s\n",
      "[47/100] 1 tree, 31 leaves, max depth = 13, train loss: 0.19694, val loss: 0.19991, in 0.362s\n",
      "[48/100] 1 tree, 31 leaves, max depth = 12, train loss: 0.19632, val loss: 0.19931, in 0.381s\n",
      "[49/100] 1 tree, 31 leaves, max depth = 11, train loss: 0.19579, val loss: 0.19878, in 0.435s\n",
      "[50/100] 1 tree, 31 leaves, max depth = 12, train loss: 0.19521, val loss: 0.19823, in 0.518s\n",
      "[51/100] 1 tree, 31 leaves, max depth = 14, train loss: 0.19477, val loss: 0.19784, in 0.513s\n",
      "[52/100] 1 tree, 31 leaves, max depth = 12, train loss: 0.19433, val loss: 0.19741, in 0.431s\n",
      "[53/100] 1 tree, 31 leaves, max depth = 13, train loss: 0.19394, val loss: 0.19705, in 0.403s\n",
      "[54/100] 1 tree, 31 leaves, max depth = 15, train loss: 0.19351, val loss: 0.19661, in 0.379s\n",
      "[55/100] 1 tree, 31 leaves, max depth = 16, train loss: 0.19312, val loss: 0.19623, in 0.553s\n",
      "[56/100] 1 tree, 31 leaves, max depth = 12, train loss: 0.19276, val loss: 0.19594, in 0.431s\n",
      "[57/100] 1 tree, 31 leaves, max depth = 16, train loss: 0.19242, val loss: 0.19564, in 0.389s\n",
      "[58/100] 1 tree, 31 leaves, max depth = 13, train loss: 0.19215, val loss: 0.19542, in 0.376s\n",
      "[59/100] 1 tree, 31 leaves, max depth = 18, train loss: 0.19183, val loss: 0.19512, in 0.364s\n",
      "[60/100] 1 tree, 31 leaves, max depth = 16, train loss: 0.19151, val loss: 0.19483, in 0.540s\n",
      "[61/100] 1 tree, 31 leaves, max depth = 12, train loss: 0.19124, val loss: 0.19460, in 0.400s\n",
      "[62/100] 1 tree, 31 leaves, max depth = 14, train loss: 0.19095, val loss: 0.19433, in 0.425s\n",
      "[63/100] 1 tree, 31 leaves, max depth = 16, train loss: 0.19065, val loss: 0.19406, in 0.526s\n",
      "[64/100] 1 tree, 31 leaves, max depth = 16, train loss: 0.19036, val loss: 0.19379, in 0.374s\n",
      "[65/100] 1 tree, 31 leaves, max depth = 20, train loss: 0.19008, val loss: 0.19353, in 0.530s\n",
      "[66/100] 1 tree, 31 leaves, max depth = 11, train loss: 0.18988, val loss: 0.19337, in 0.340s\n",
      "[67/100] 1 tree, 31 leaves, max depth = 12, train loss: 0.18966, val loss: 0.19316, in 0.381s\n",
      "[68/100] 1 tree, 31 leaves, max depth = 12, train loss: 0.18943, val loss: 0.19298, in 0.382s\n",
      "[69/100] 1 tree, 31 leaves, max depth = 12, train loss: 0.18930, val loss: 0.19291, in 0.370s\n",
      "[70/100] 1 tree, 31 leaves, max depth = 12, train loss: 0.18903, val loss: 0.19267, in 0.347s\n",
      "[71/100] 1 tree, 31 leaves, max depth = 14, train loss: 0.18882, val loss: 0.19249, in 0.508s\n",
      "[72/100] 1 tree, 31 leaves, max depth = 17, train loss: 0.18859, val loss: 0.19227, in 0.354s\n",
      "[73/100] 1 tree, 31 leaves, max depth = 13, train loss: 0.18839, val loss: 0.19208, in 0.433s\n",
      "[74/100] 1 tree, 31 leaves, max depth = 17, train loss: 0.18820, val loss: 0.19195, in 0.363s\n",
      "[75/100] 1 tree, 31 leaves, max depth = 13, train loss: 0.18800, val loss: 0.19177, in 0.501s\n",
      "[76/100] 1 tree, 31 leaves, max depth = 17, train loss: 0.18781, val loss: 0.19162, in 0.508s\n",
      "[77/100] 1 tree, 31 leaves, max depth = 11, train loss: 0.18767, val loss: 0.19150, in 0.341s\n",
      "[78/100] 1 tree, 31 leaves, max depth = 15, train loss: 0.18745, val loss: 0.19131, in 0.348s\n",
      "[79/100] 1 tree, 31 leaves, max depth = 14, train loss: 0.18725, val loss: 0.19112, in 0.420s\n",
      "[80/100] 1 tree, 31 leaves, max depth = 17, train loss: 0.18705, val loss: 0.19093, in 0.319s\n",
      "[81/100] 1 tree, 31 leaves, max depth = 18, train loss: 0.18688, val loss: 0.19080, in 0.419s\n",
      "[82/100] 1 tree, 31 leaves, max depth = 14, train loss: 0.18670, val loss: 0.19065, in 0.535s\n",
      "[83/100] 1 tree, 31 leaves, max depth = 14, train loss: 0.18656, val loss: 0.19056, in 0.338s\n",
      "[84/100] 1 tree, 31 leaves, max depth = 19, train loss: 0.18641, val loss: 0.19045, in 0.309s\n",
      "[85/100] 1 tree, 31 leaves, max depth = 12, train loss: 0.18624, val loss: 0.19032, in 0.395s\n",
      "[86/100] 1 tree, 31 leaves, max depth = 15, train loss: 0.18609, val loss: 0.19023, in 0.278s\n",
      "[87/100] 1 tree, 31 leaves, max depth = 16, train loss: 0.18594, val loss: 0.19011, in 0.375s\n",
      "[88/100] 1 tree, 31 leaves, max depth = 14, train loss: 0.18583, val loss: 0.19003, in 0.513s\n",
      "[89/100] 1 tree, 31 leaves, max depth = 16, train loss: 0.18567, val loss: 0.18989, in 0.404s\n",
      "[90/100] 1 tree, 31 leaves, max depth = 14, train loss: 0.18553, val loss: 0.18978, in 0.317s\n",
      "[91/100] 1 tree, 31 leaves, max depth = 10, train loss: 0.18539, val loss: 0.18967, in 0.420s\n",
      "[92/100] 1 tree, 31 leaves, max depth = 17, train loss: 0.18528, val loss: 0.18959, in 0.286s\n",
      "[93/100] 1 tree, 31 leaves, max depth = 10, train loss: 0.18516, val loss: 0.18950, in 0.338s\n",
      "[94/100] 1 tree, 31 leaves, max depth = 15, train loss: 0.18502, val loss: 0.18938, in 0.428s\n",
      "[95/100] 1 tree, 31 leaves, max depth = 12, train loss: 0.18496, val loss: 0.18941, in 0.378s\n",
      "[96/100] 1 tree, 31 leaves, max depth = 11, train loss: 0.18483, val loss: 0.18933, in 0.257s\n",
      "[97/100] 1 tree, 31 leaves, max depth = 13, train loss: 0.18501, val loss: 0.18981, in 0.238s\n",
      "[98/100] 1 tree, 31 leaves, max depth = 12, train loss: 0.18547, val loss: 0.19013, in 0.136s\n",
      "[99/100] 1 tree, 31 leaves, max depth = 16, train loss: 0.18504, val loss: 0.19004, in 0.156s\n",
      "[100/100] "
     ]
    },
    {
     "data": {
      "text/html": [
       "<style>#sk-container-id-3 {color: black;background-color: white;}#sk-container-id-3 pre{padding: 0;}#sk-container-id-3 div.sk-toggleable {background-color: white;}#sk-container-id-3 label.sk-toggleable__label {cursor: pointer;display: block;width: 100%;margin-bottom: 0;padding: 0.3em;box-sizing: border-box;text-align: center;}#sk-container-id-3 label.sk-toggleable__label-arrow:before {content: \"▸\";float: left;margin-right: 0.25em;color: #696969;}#sk-container-id-3 label.sk-toggleable__label-arrow:hover:before {color: black;}#sk-container-id-3 div.sk-estimator:hover label.sk-toggleable__label-arrow:before {color: black;}#sk-container-id-3 div.sk-toggleable__content {max-height: 0;max-width: 0;overflow: hidden;text-align: left;background-color: #f0f8ff;}#sk-container-id-3 div.sk-toggleable__content pre {margin: 0.2em;color: black;border-radius: 0.25em;background-color: #f0f8ff;}#sk-container-id-3 input.sk-toggleable__control:checked~div.sk-toggleable__content {max-height: 200px;max-width: 100%;overflow: auto;}#sk-container-id-3 input.sk-toggleable__control:checked~label.sk-toggleable__label-arrow:before {content: \"▾\";}#sk-container-id-3 div.sk-estimator input.sk-toggleable__control:checked~label.sk-toggleable__label {background-color: #d4ebff;}#sk-container-id-3 div.sk-label input.sk-toggleable__control:checked~label.sk-toggleable__label {background-color: #d4ebff;}#sk-container-id-3 input.sk-hidden--visually {border: 0;clip: rect(1px 1px 1px 1px);clip: rect(1px, 1px, 1px, 1px);height: 1px;margin: -1px;overflow: hidden;padding: 0;position: absolute;width: 1px;}#sk-container-id-3 div.sk-estimator {font-family: monospace;background-color: #f0f8ff;border: 1px dotted black;border-radius: 0.25em;box-sizing: border-box;margin-bottom: 0.5em;}#sk-container-id-3 div.sk-estimator:hover {background-color: #d4ebff;}#sk-container-id-3 div.sk-parallel-item::after {content: \"\";width: 100%;border-bottom: 1px solid gray;flex-grow: 1;}#sk-container-id-3 div.sk-label:hover label.sk-toggleable__label {background-color: #d4ebff;}#sk-container-id-3 div.sk-serial::before {content: \"\";position: absolute;border-left: 1px solid gray;box-sizing: border-box;top: 0;bottom: 0;left: 50%;z-index: 0;}#sk-container-id-3 div.sk-serial {display: flex;flex-direction: column;align-items: center;background-color: white;padding-right: 0.2em;padding-left: 0.2em;position: relative;}#sk-container-id-3 div.sk-item {position: relative;z-index: 1;}#sk-container-id-3 div.sk-parallel {display: flex;align-items: stretch;justify-content: center;background-color: white;position: relative;}#sk-container-id-3 div.sk-item::before, #sk-container-id-3 div.sk-parallel-item::before {content: \"\";position: absolute;border-left: 1px solid gray;box-sizing: border-box;top: 0;bottom: 0;left: 50%;z-index: -1;}#sk-container-id-3 div.sk-parallel-item {display: flex;flex-direction: column;z-index: 1;position: relative;background-color: white;}#sk-container-id-3 div.sk-parallel-item:first-child::after {align-self: flex-end;width: 50%;}#sk-container-id-3 div.sk-parallel-item:last-child::after {align-self: flex-start;width: 50%;}#sk-container-id-3 div.sk-parallel-item:only-child::after {width: 0;}#sk-container-id-3 div.sk-dashed-wrapped {border: 1px dashed gray;margin: 0 0.4em 0.5em 0.4em;box-sizing: border-box;padding-bottom: 0.4em;background-color: white;}#sk-container-id-3 div.sk-label label {font-family: monospace;font-weight: bold;display: inline-block;line-height: 1.2em;}#sk-container-id-3 div.sk-label-container {text-align: center;}#sk-container-id-3 div.sk-container {/* jupyter's `normalize.less` sets `[hidden] { display: none; }` but bootstrap.min.css set `[hidden] { display: none !important; }` so we also need the `!important` here to be able to override the default hidden behavior on the sphinx rendered scikit-learn.org. See: https://github.com/scikit-learn/scikit-learn/issues/21755 */display: inline-block !important;position: relative;}#sk-container-id-3 div.sk-text-repr-fallback {display: none;}</style><div id=\"sk-container-id-3\" class=\"sk-top-container\"><div class=\"sk-text-repr-fallback\"><pre>HistGradientBoostingClassifier(verbose=True)</pre><b>In a Jupyter environment, please rerun this cell to show the HTML representation or trust the notebook. <br />On GitHub, the HTML representation is unable to render, please try loading this page with nbviewer.org.</b></div><div class=\"sk-container\" hidden><div class=\"sk-item\"><div class=\"sk-estimator sk-toggleable\"><input class=\"sk-toggleable__control sk-hidden--visually\" id=\"sk-estimator-id-3\" type=\"checkbox\" checked><label for=\"sk-estimator-id-3\" class=\"sk-toggleable__label sk-toggleable__label-arrow\">HistGradientBoostingClassifier</label><div class=\"sk-toggleable__content\"><pre>HistGradientBoostingClassifier(verbose=True)</pre></div></div></div></div></div>"
      ],
      "text/plain": [
       "PyObject HistGradientBoostingClassifier(verbose=True)"
      ]
     },
     "metadata": {},
     "output_type": "display_data"
    }
   ],
   "source": [
    "GBT = sk_ensemble.HistGradientBoostingClassifier(verbose=true).fit(embedded_jets, labels)"
   ]
  },
  {
   "cell_type": "code",
   "execution_count": 9,
   "metadata": {},
   "outputs": [
    {
     "data": {
      "text/plain": [
       "0.9253672800180347"
      ]
     },
     "metadata": {},
     "output_type": "display_data"
    }
   ],
   "source": [
    "GBT.score(embedded_jets, labels)"
   ]
  },
  {
   "cell_type": "code",
   "execution_count": 10,
   "metadata": {},
   "outputs": [],
   "source": [
    "train_sizes, train_scores, test_scores, fit_times, _ = sk_model_selection.learning_curve(\n",
    "                                GBT,\n",
    "                                embedded_jets,\n",
    "                                labels,\n",
    "                                cv=sk_model_selection.ShuffleSplit(n_splits=10, test_size=0.2),\n",
    "                                n_jobs = -1)"
   ]
  },
  {
   "cell_type": "markdown",
   "metadata": {},
   "source": [
    "# Lest test how we do performance"
   ]
  },
  {
   "cell_type": "code",
   "execution_count": null,
   "metadata": {},
   "outputs": [],
   "source": [
    "test_data = \"../DataLake/raw/test.h5\""
   ]
  },
  {
   "cell_type": "code",
   "execution_count": null,
   "metadata": {},
   "outputs": [],
   "source": [
    "test_jets, test_labels = BIPs.read_data(\"TQ\", temporal_data_path)\n",
    "test_labels = [reinterpret(Bool, b == 1.0) for b in test_labels]\n",
    "test_transf_jets = data2hyp(test_jets)\n",
    "test_embedded_jets = bip_data(test_transf_jets)"
   ]
  },
  {
   "cell_type": "code",
   "execution_count": null,
   "metadata": {},
   "outputs": [],
   "source": [
    "test_predictions = GBT.predict(test_embedded_jets)"
   ]
  }
 ],
 "metadata": {
  "kernelspec": {
   "display_name": "Julia 1.7.3",
   "language": "julia",
   "name": "julia-1.7"
  },
  "language_info": {
   "file_extension": ".jl",
   "mimetype": "application/julia",
   "name": "julia",
   "version": "1.7.3"
  },
  "orig_nbformat": 4,
  "vscode": {
   "interpreter": {
    "hash": "f075184c5ef2f0b32d809a510d5efd6bb855cd1f11e474e44795b0201961dbbc"
   }
  }
 },
 "nbformat": 4,
 "nbformat_minor": 2
}
