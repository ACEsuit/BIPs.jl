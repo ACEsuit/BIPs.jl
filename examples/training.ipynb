{
 "cells": [
  {
   "cell_type": "code",
   "execution_count": 1,
   "metadata": {},
   "outputs": [
    {
     "name": "stderr",
     "output_type": "stream",
     "text": [
      "\u001b[32m\u001b[1m  Activating\u001b[22m\u001b[39m project at `~/gits/BIPs.jl`\n"
     ]
    }
   ],
   "source": [
    "using Pkg \n",
    "Pkg.activate(\"..\")"
   ]
  },
  {
   "cell_type": "code",
   "execution_count": 2,
   "metadata": {},
   "outputs": [],
   "source": [
    "using BIPs\n",
    "using Statistics\n",
    "using Pkg.Artifacts"
   ]
  },
  {
   "cell_type": "markdown",
   "metadata": {},
   "source": []
  },
  {
   "cell_type": "code",
   "execution_count": 3,
   "metadata": {},
   "outputs": [
    {
     "data": {
      "text/plain": [
       "\"/Users/ortner/datasets/toptagging/val.h5\""
      ]
     },
     "metadata": {},
     "output_type": "display_data"
    }
   ],
   "source": [
    "# train_data_path = \"../../DataLake/raw/train.h5\"\n",
    "# val_data_path = \"../../DataLake/raw/val.h5\"\n",
    "train_data_path = \"/Users/ortner/datasets/toptagging/train.h5\"\n",
    "val_data_path = \"/Users/ortner/datasets/toptagging/val.h5\""
   ]
  },
  {
   "cell_type": "code",
   "execution_count": 4,
   "metadata": {},
   "outputs": [
    {
     "data": {
      "text/plain": [
       "1210997"
      ]
     },
     "metadata": {},
     "output_type": "display_data"
    }
   ],
   "source": [
    "train_jets, train_labels = BIPs.read_data(\"TQ\", train_data_path)\n",
    "train_labels = [reinterpret(Bool, b == 1.0) for b in train_labels]\n",
    "length(train_jets)"
   ]
  },
  {
   "cell_type": "code",
   "execution_count": 7,
   "metadata": {},
   "outputs": [],
   "source": [
    "val_jets, val_labels = BIPs.read_data(\"TQ\", val_data_path)\n",
    "val_labels = [reinterpret(Bool, b == 1.0) for b in val_labels]\n",
    "length(val_jets)"
   ]
  },
  {
   "cell_type": "code",
   "execution_count": 5,
   "metadata": {},
   "outputs": [
    {
     "name": "stdout",
     "output_type": "stream",
     "text": [
      "Transformed jets: 1210997\n"
     ]
    }
   ],
   "source": [
    "train_transf_jets = data2hyp(train_jets)\n",
    "println(\"Transformed jets: \", length(train_transf_jets))"
   ]
  },
  {
   "cell_type": "code",
   "execution_count": null,
   "metadata": {},
   "outputs": [],
   "source": [
    "val_transf_jets = data2hyp(val_jets)\n",
    "println(\"Transformed jets: \", length(val_transf_jets))"
   ]
  },
  {
   "cell_type": "code",
   "execution_count": null,
   "metadata": {},
   "outputs": [],
   "source": [
    "f_bip, specs = build_ip(order=4, levels=7)\n",
    "    \n",
    "function bip_data(dataset_jets)\n",
    "    storage = zeros(length(dataset_jets), length(specs))\n",
    "    for i = 1:length(dataset_jets)\n",
    "        storage[i, :] = f_bip(dataset_jets[i])\n",
    "    end\n",
    "    storage[:, 2:end]\n",
    "end"
   ]
  },
  {
   "cell_type": "code",
   "execution_count": null,
   "metadata": {},
   "outputs": [],
   "source": [
    "train_embedded_jets = bip_data(train_transf_jets)\n",
    "println(\"Embedded train jets correclty\")\n",
    "val_embedded_jets = bip_data(val_transf_jets)\n",
    "println(\"Embedded test jets correclty\")"
   ]
  },
  {
   "cell_type": "markdown",
   "metadata": {},
   "source": [
    "Now, lets fit a simple model to the data.\n"
   ]
  },
  {
   "cell_type": "code",
   "execution_count": 24,
   "metadata": {},
   "outputs": [],
   "source": [
    "using PyCall\n",
    "@pyimport sklearn.ensemble as sk_ensemble\n",
    "@pyimport sklearn.metrics as sk_metrics\n",
    "@pyimport sklearn.model_selection as sk_model_selection"
   ]
  },
  {
   "cell_type": "code",
   "execution_count": 31,
   "metadata": {},
   "outputs": [
    {
     "name": "stdout",
     "output_type": "stream",
     "text": [
      "Binning 12.843 GB of training data: 44.323 s\n",
      "Binning 1.427 GB of validation data: 0.700 s\n",
      "Fitting gradient boosted rounds:\n",
      "[1/100] 1 tree, 31 leaves, max depth = 10, train loss: 0.62412, val loss: 0.62419, in 0.598s\n",
      "[2/100] 1 tree, 31 leaves, max depth = 10, train loss: 0.56740, val loss: 0.56763, in 0.359s\n",
      "[3/100] 1 tree, 31 leaves, max depth = 9, train loss: 0.51997, val loss: 0.52036, in 0.367s\n",
      "[4/100] 1 tree, 31 leaves, max depth = 9, train loss: 0.47999, val loss: 0.48046, in 0.478s\n",
      "[5/100] 1 tree, 31 leaves, max depth = 8, train loss: 0.44573, val loss: 0.44628, in 0.388s\n",
      "[6/100] 1 tree, 31 leaves, max depth = 10, train loss: 0.41655, val loss: 0.41719, in 0.586s\n",
      "[7/100] 1 tree, 31 leaves, max depth = 9, train loss: 0.39108, val loss: 0.39184, in 0.917s\n",
      "[8/100] 1 tree, 31 leaves, max depth = 9, train loss: 0.36892, val loss: 0.36984, in 0.705s\n",
      "[9/100] 1 tree, 31 leaves, max depth = 10, train loss: 0.34968, val loss: 0.35068, in 0.728s\n",
      "[10/100] 1 tree, 31 leaves, max depth = 12, train loss: 0.33271, val loss: 0.33377, in 0.580s\n",
      "[11/100] 1 tree, 31 leaves, max depth = 11, train loss: 0.31792, val loss: 0.31907, in 0.396s\n",
      "[12/100] 1 tree, 31 leaves, max depth = 10, train loss: 0.30485, val loss: 0.30610, in 0.461s\n",
      "[13/100] 1 tree, 31 leaves, max depth = 10, train loss: 0.29331, val loss: 0.29464, in 0.394s\n",
      "[14/100] 1 tree, 31 leaves, max depth = 9, train loss: 0.28295, val loss: 0.28437, in 0.492s\n",
      "[15/100] 1 tree, 31 leaves, max depth = 10, train loss: 0.27379, val loss: 0.27531, in 0.904s\n",
      "[16/100] 1 tree, 31 leaves, max depth = 9, train loss: 0.26571, val loss: 0.26729, in 0.434s\n",
      "[17/100] 1 tree, 31 leaves, max depth = 10, train loss: 0.25847, val loss: 0.26010, in 0.386s\n",
      "[18/100] 1 tree, 31 leaves, max depth = 9, train loss: 0.25196, val loss: 0.25371, in 0.512s\n",
      "[19/100] 1 tree, 31 leaves, max depth = 11, train loss: 0.24624, val loss: 0.24806, in 0.388s\n",
      "[20/100] 1 tree, 31 leaves, max depth = 8, train loss: 0.24108, val loss: 0.24297, in 0.541s\n",
      "[21/100] 1 tree, 31 leaves, max depth = 13, train loss: 0.23638, val loss: 0.23835, in 0.409s\n",
      "[22/100] 1 tree, 31 leaves, max depth = 9, train loss: 0.23213, val loss: 0.23423, in 0.474s\n",
      "[23/100] 1 tree, 31 leaves, max depth = 11, train loss: 0.22831, val loss: 0.23047, in 0.425s\n",
      "[24/100] 1 tree, 31 leaves, max depth = 9, train loss: 0.22496, val loss: 0.22720, in 0.387s\n",
      "[25/100] 1 tree, 31 leaves, max depth = 12, train loss: 0.22189, val loss: 0.22422, in 0.585s\n",
      "[26/100] 1 tree, 31 leaves, max depth = 9, train loss: 0.21915, val loss: 0.22156, in 0.371s\n",
      "[27/100] 1 tree, 31 leaves, max depth = 10, train loss: 0.21660, val loss: 0.21906, in 0.404s\n",
      "[28/100] 1 tree, 31 leaves, max depth = 12, train loss: 0.21438, val loss: 0.21690, in 0.373s\n",
      "[29/100] 1 tree, 31 leaves, max depth = 10, train loss: 0.21230, val loss: 0.21491, in 0.404s\n",
      "[30/100] 1 tree, 31 leaves, max depth = 13, train loss: 0.21046, val loss: 0.21313, in 0.539s\n",
      "[31/100] 1 tree, 31 leaves, max depth = 12, train loss: 0.20869, val loss: 0.21142, in 0.407s\n",
      "[32/100] 1 tree, 31 leaves, max depth = 9, train loss: 0.20711, val loss: 0.20991, in 0.415s\n",
      "[33/100] 1 tree, 31 leaves, max depth = 13, train loss: 0.20561, val loss: 0.20841, in 0.422s\n",
      "[34/100] 1 tree, 31 leaves, max depth = 9, train loss: 0.20426, val loss: 0.20710, in 0.394s\n",
      "[35/100] 1 tree, 31 leaves, max depth = 11, train loss: 0.20307, val loss: 0.20592, in 0.429s\n",
      "[36/100] 1 tree, 31 leaves, max depth = 12, train loss: 0.20198, val loss: 0.20488, in 0.550s\n",
      "[37/100] 1 tree, 31 leaves, max depth = 12, train loss: 0.20096, val loss: 0.20392, in 0.362s\n",
      "[38/100] 1 tree, 31 leaves, max depth = 12, train loss: 0.20001, val loss: 0.20303, in 0.400s\n",
      "[39/100] 1 tree, 31 leaves, max depth = 10, train loss: 0.19918, val loss: 0.20226, in 0.391s\n",
      "[40/100] 1 tree, 31 leaves, max depth = 11, train loss: 0.19831, val loss: 0.20144, in 0.425s\n",
      "[41/100] 1 tree, 31 leaves, max depth = 11, train loss: 0.19750, val loss: 0.20068, in 0.548s\n",
      "[42/100] 1 tree, 31 leaves, max depth = 11, train loss: 0.19675, val loss: 0.19996, in 0.368s\n",
      "[43/100] 1 tree, 31 leaves, max depth = 11, train loss: 0.19611, val loss: 0.19935, in 0.391s\n",
      "[44/100] 1 tree, 31 leaves, max depth = 11, train loss: 0.19537, val loss: 0.19864, in 0.432s\n",
      "[45/100] 1 tree, 31 leaves, max depth = 14, train loss: 0.19479, val loss: 0.19812, in 0.374s\n",
      "[46/100] 1 tree, 31 leaves, max depth = 13, train loss: 0.19423, val loss: 0.19757, in 0.535s\n",
      "[47/100] 1 tree, 31 leaves, max depth = 17, train loss: 0.19373, val loss: 0.19712, in 0.364s\n",
      "[48/100] 1 tree, 31 leaves, max depth = 12, train loss: 0.19324, val loss: 0.19669, in 0.420s\n",
      "[49/100] 1 tree, 31 leaves, max depth = 10, train loss: 0.19275, val loss: 0.19625, in 0.369s\n",
      "[50/100] 1 tree, 31 leaves, max depth = 11, train loss: 0.19232, val loss: 0.19587, in 0.333s\n",
      "[51/100] 1 tree, 31 leaves, max depth = 14, train loss: 0.19183, val loss: 0.19541, in 0.380s\n",
      "[52/100] 1 tree, 31 leaves, max depth = 12, train loss: 0.19146, val loss: 0.19508, in 0.546s\n",
      "[53/100] 1 tree, 31 leaves, max depth = 10, train loss: 0.19108, val loss: 0.19473, in 0.395s\n",
      "[54/100] 1 tree, 31 leaves, max depth = 14, train loss: 0.19076, val loss: 0.19445, in 0.385s\n",
      "[55/100] 1 tree, 31 leaves, max depth = 11, train loss: 0.19043, val loss: 0.19414, in 0.387s\n",
      "[56/100] 1 tree, 31 leaves, max depth = 12, train loss: 0.19013, val loss: 0.19389, in 0.384s\n",
      "[57/100] 1 tree, 31 leaves, max depth = 12, train loss: 0.18984, val loss: 0.19366, in 0.503s\n",
      "[58/100] 1 tree, 31 leaves, max depth = 17, train loss: 0.18955, val loss: 0.19340, in 0.376s\n",
      "[59/100] 1 tree, 31 leaves, max depth = 15, train loss: 0.18928, val loss: 0.19317, in 0.462s\n",
      "[60/100] 1 tree, 31 leaves, max depth = 11, train loss: 0.18900, val loss: 0.19292, in 0.355s\n",
      "[61/100] 1 tree, 31 leaves, max depth = 13, train loss: 0.18878, val loss: 0.19273, in 0.366s\n",
      "[62/100] 1 tree, 31 leaves, max depth = 15, train loss: 0.18848, val loss: 0.19244, in 0.423s\n",
      "[63/100] 1 tree, 31 leaves, max depth = 11, train loss: 0.18826, val loss: 0.19227, in 0.473s\n",
      "[64/100] 1 tree, 31 leaves, max depth = 14, train loss: 0.18797, val loss: 0.19199, in 0.366s\n",
      "[65/100] 1 tree, 31 leaves, max depth = 16, train loss: 0.18774, val loss: 0.19180, in 0.344s\n",
      "[66/100] 1 tree, 31 leaves, max depth = 14, train loss: 0.18752, val loss: 0.19161, in 0.364s\n",
      "[67/100] 1 tree, 31 leaves, max depth = 14, train loss: 0.18734, val loss: 0.19146, in 0.426s\n",
      "[68/100] 1 tree, 31 leaves, max depth = 19, train loss: 0.18711, val loss: 0.19124, in 0.461s\n",
      "[69/100] 1 tree, 31 leaves, max depth = 11, train loss: 0.18686, val loss: 0.19104, in 0.327s\n",
      "[70/100] 1 tree, 31 leaves, max depth = 15, train loss: 0.18663, val loss: 0.19083, in 0.358s\n",
      "[71/100] 1 tree, 31 leaves, max depth = 13, train loss: 0.18643, val loss: 0.19072, in 0.336s\n",
      "[72/100] 1 tree, 31 leaves, max depth = 12, train loss: 0.18624, val loss: 0.19057, in 0.337s\n",
      "[73/100] 1 tree, 31 leaves, max depth = 18, train loss: 0.18606, val loss: 0.19041, in 0.372s\n",
      "[74/100] 1 tree, 31 leaves, max depth = 16, train loss: 0.18587, val loss: 0.19026, in 0.490s\n",
      "[75/100] 1 tree, 31 leaves, max depth = 17, train loss: 0.18570, val loss: 0.19012, in 0.367s\n",
      "[76/100] 1 tree, 31 leaves, max depth = 11, train loss: 0.18557, val loss: 0.19007, in 0.326s\n",
      "[77/100] 1 tree, 31 leaves, max depth = 17, train loss: 0.18539, val loss: 0.18992, in 0.318s\n",
      "[78/100] 1 tree, 31 leaves, max depth = 13, train loss: 0.18523, val loss: 0.18980, in 0.348s\n",
      "[79/100] 1 tree, 31 leaves, max depth = 13, train loss: 0.18507, val loss: 0.18967, in 0.307s\n",
      "[80/100] 1 tree, 31 leaves, max depth = 14, train loss: 0.18493, val loss: 0.18955, in 0.529s\n",
      "[81/100] 1 tree, 31 leaves, max depth = 13, train loss: 0.18480, val loss: 0.18945, in 0.301s\n",
      "[82/100] 1 tree, 31 leaves, max depth = 16, train loss: 0.18467, val loss: 0.18933, in 0.367s\n",
      "[83/100] 1 tree, 31 leaves, max depth = 18, train loss: 0.18452, val loss: 0.18922, in 0.331s\n",
      "[84/100] 1 tree, 31 leaves, max depth = 9, train loss: 0.18439, val loss: 0.18913, in 0.278s\n",
      "[85/100] 1 tree, 31 leaves, max depth = 16, train loss: 0.18424, val loss: 0.18900, in 0.305s\n",
      "[86/100] 1 tree, 31 leaves, max depth = 12, train loss: 0.18423, val loss: 0.18894, in 0.291s\n",
      "[87/100] 1 tree, 31 leaves, max depth = 15, train loss: 0.18408, val loss: 0.18887, in 0.598s\n",
      "[88/100] 1 tree, 31 leaves, max depth = 15, train loss: 0.18394, val loss: 0.18876, in 0.563s\n",
      "[89/100] 1 tree, 31 leaves, max depth = 13, train loss: 0.18407, val loss: 0.18929, in 0.508s\n",
      "[90/100] 1 tree, 31 leaves, max depth = 10, train loss: 0.18418, val loss: 0.18910, in 0.522s\n",
      "[91/100] 1 tree, 31 leaves, max depth = 9, train loss: 0.18468, val loss: 0.18950, in 0.384s\n",
      "[92/100] 1 tree, 1 leaves, max depth = 0, train loss: 0.18468, val loss: 0.18950, in 0.126s\n",
      "[93/100] 1 tree, 1 leaves, max depth = 0, train loss: 0.18468, val loss: 0.18950, in 0.124s\n",
      "[94/100] 1 tree, 1 leaves, max depth = 0, train loss: 0.18468, val loss: 0.18950, in 0.117s\n",
      "[95/100] 1 tree, 1 leaves, max depth = 0, train loss: 0.18468, val loss: 0.18950, in 0.120s\n",
      "[96/100] 1 tree, 1 leaves, max depth = 0, train loss: 0.18468, val loss: 0.18950, in 0.118s\n",
      "[97/100] 1 tree, 1 leaves, max depth = 0, train loss: 0.18468, val loss: 0.18950, in 0.120s\n",
      "[98/100] "
     ]
    },
    {
     "data": {
      "text/html": [
       "<style>#sk-container-id-3 {color: black;background-color: white;}#sk-container-id-3 pre{padding: 0;}#sk-container-id-3 div.sk-toggleable {background-color: white;}#sk-container-id-3 label.sk-toggleable__label {cursor: pointer;display: block;width: 100%;margin-bottom: 0;padding: 0.3em;box-sizing: border-box;text-align: center;}#sk-container-id-3 label.sk-toggleable__label-arrow:before {content: \"▸\";float: left;margin-right: 0.25em;color: #696969;}#sk-container-id-3 label.sk-toggleable__label-arrow:hover:before {color: black;}#sk-container-id-3 div.sk-estimator:hover label.sk-toggleable__label-arrow:before {color: black;}#sk-container-id-3 div.sk-toggleable__content {max-height: 0;max-width: 0;overflow: hidden;text-align: left;background-color: #f0f8ff;}#sk-container-id-3 div.sk-toggleable__content pre {margin: 0.2em;color: black;border-radius: 0.25em;background-color: #f0f8ff;}#sk-container-id-3 input.sk-toggleable__control:checked~div.sk-toggleable__content {max-height: 200px;max-width: 100%;overflow: auto;}#sk-container-id-3 input.sk-toggleable__control:checked~label.sk-toggleable__label-arrow:before {content: \"▾\";}#sk-container-id-3 div.sk-estimator input.sk-toggleable__control:checked~label.sk-toggleable__label {background-color: #d4ebff;}#sk-container-id-3 div.sk-label input.sk-toggleable__control:checked~label.sk-toggleable__label {background-color: #d4ebff;}#sk-container-id-3 input.sk-hidden--visually {border: 0;clip: rect(1px 1px 1px 1px);clip: rect(1px, 1px, 1px, 1px);height: 1px;margin: -1px;overflow: hidden;padding: 0;position: absolute;width: 1px;}#sk-container-id-3 div.sk-estimator {font-family: monospace;background-color: #f0f8ff;border: 1px dotted black;border-radius: 0.25em;box-sizing: border-box;margin-bottom: 0.5em;}#sk-container-id-3 div.sk-estimator:hover {background-color: #d4ebff;}#sk-container-id-3 div.sk-parallel-item::after {content: \"\";width: 100%;border-bottom: 1px solid gray;flex-grow: 1;}#sk-container-id-3 div.sk-label:hover label.sk-toggleable__label {background-color: #d4ebff;}#sk-container-id-3 div.sk-serial::before {content: \"\";position: absolute;border-left: 1px solid gray;box-sizing: border-box;top: 0;bottom: 0;left: 50%;z-index: 0;}#sk-container-id-3 div.sk-serial {display: flex;flex-direction: column;align-items: center;background-color: white;padding-right: 0.2em;padding-left: 0.2em;position: relative;}#sk-container-id-3 div.sk-item {position: relative;z-index: 1;}#sk-container-id-3 div.sk-parallel {display: flex;align-items: stretch;justify-content: center;background-color: white;position: relative;}#sk-container-id-3 div.sk-item::before, #sk-container-id-3 div.sk-parallel-item::before {content: \"\";position: absolute;border-left: 1px solid gray;box-sizing: border-box;top: 0;bottom: 0;left: 50%;z-index: -1;}#sk-container-id-3 div.sk-parallel-item {display: flex;flex-direction: column;z-index: 1;position: relative;background-color: white;}#sk-container-id-3 div.sk-parallel-item:first-child::after {align-self: flex-end;width: 50%;}#sk-container-id-3 div.sk-parallel-item:last-child::after {align-self: flex-start;width: 50%;}#sk-container-id-3 div.sk-parallel-item:only-child::after {width: 0;}#sk-container-id-3 div.sk-dashed-wrapped {border: 1px dashed gray;margin: 0 0.4em 0.5em 0.4em;box-sizing: border-box;padding-bottom: 0.4em;background-color: white;}#sk-container-id-3 div.sk-label label {font-family: monospace;font-weight: bold;display: inline-block;line-height: 1.2em;}#sk-container-id-3 div.sk-label-container {text-align: center;}#sk-container-id-3 div.sk-container {/* jupyter's `normalize.less` sets `[hidden] { display: none; }` but bootstrap.min.css set `[hidden] { display: none !important; }` so we also need the `!important` here to be able to override the default hidden behavior on the sphinx rendered scikit-learn.org. See: https://github.com/scikit-learn/scikit-learn/issues/21755 */display: inline-block !important;position: relative;}#sk-container-id-3 div.sk-text-repr-fallback {display: none;}</style><div id=\"sk-container-id-3\" class=\"sk-top-container\"><div class=\"sk-text-repr-fallback\"><pre>HistGradientBoostingClassifier(verbose=True)</pre><b>In a Jupyter environment, please rerun this cell to show the HTML representation or trust the notebook. <br />On GitHub, the HTML representation is unable to render, please try loading this page with nbviewer.org.</b></div><div class=\"sk-container\" hidden><div class=\"sk-item\"><div class=\"sk-estimator sk-toggleable\"><input class=\"sk-toggleable__control sk-hidden--visually\" id=\"sk-estimator-id-3\" type=\"checkbox\" checked><label for=\"sk-estimator-id-3\" class=\"sk-toggleable__label sk-toggleable__label-arrow\">HistGradientBoostingClassifier</label><div class=\"sk-toggleable__content\"><pre>HistGradientBoostingClassifier(verbose=True)</pre></div></div></div></div></div>"
      ],
      "text/plain": [
       "PyObject HistGradientBoostingClassifier(verbose=True)"
      ]
     },
     "metadata": {},
     "output_type": "display_data"
    }
   ],
   "source": [
    "GCT = sk_ensemble.HistGradientBoostingClassifier(verbose=true).fit(train_embedded_jets, train_labels)"
   ]
  },
  {
   "cell_type": "markdown",
   "metadata": {},
   "source": [
    "# Lest test how we do performance"
   ]
  },
  {
   "cell_type": "code",
   "execution_count": 32,
   "metadata": {},
   "outputs": [
    {
     "data": {
      "text/plain": [
       "\"../../DataLake/raw/test.h5\""
      ]
     },
     "metadata": {},
     "output_type": "display_data"
    }
   ],
   "source": [
    "test_data_path = \"../../DataLake/raw/test.h5\""
   ]
  },
  {
   "cell_type": "code",
   "execution_count": 33,
   "metadata": {},
   "outputs": [
    {
     "data": {
      "text/plain": [
       "403997×1473 Matrix{Float64}:\n",
       " 10.9199   1.97985    -9.61555  -4.88727  …   -36.5431    -1760.17\n",
       " 20.3255   0.936782  -20.1963   -2.78897       -2.14822   -7717.05\n",
       " 14.4626   1.05048   -14.2088   -3.07569      -12.6807    -3013.4\n",
       " 39.3236   1.2276    -39.1689   -3.65282      -48.6246   -73770.2\n",
       " 12.1289   1.47541   -11.5595   -4.17361      -21.9453    -2278.93\n",
       " 18.8767   1.40991   -18.437    -4.03428  …   -13.2246    -8836.07\n",
       " 61.9598   1.80257   -61.7629   -5.37611     -231.468        -4.24694e5\n",
       " 15.7746   1.01205   -15.582    -2.99353       -9.52968   -3828.89\n",
       " 68.6222   1.86299   -68.4217   -5.561       -423.797        -5.96748e5\n",
       "  7.57009  1.68356    -6.42974  -4.18674      -24.4955     -447.515\n",
       "  ⋮                                       ⋱              \n",
       " 28.699    1.81189   -28.2782   -5.31472      -82.1862   -40971.9\n",
       " 45.7211   1.77646   -45.4996   -5.29609     -174.857        -1.67332e5\n",
       " 28.4646   2.53238   -27.6481   -7.27184  …  -315.579    -53521.1\n",
       " 40.4438   1.75986   -40.1546   -5.21282     -195.972        -1.13942e5\n",
       " 26.9106   1.89822   -26.359    -5.50194      -95.3981   -34764.3\n",
       " 21.2477   1.51483   -20.8612   -4.41224      -32.8234   -13752.4\n",
       " 34.9393   2.0713    -34.6087   -6.15235     -257.776    -85861.7\n",
       " 33.1966   2.1396    -32.5695   -6.16144  …  -270.492    -73920.8\n",
       " 47.7351   1.53019   -47.5893   -4.57395     -155.825        -1.64919e5"
      ]
     },
     "metadata": {},
     "output_type": "display_data"
    }
   ],
   "source": [
    "test_jets, test_labels = BIPs.read_data(\"TQ\", test_data_path)\n",
    "test_labels = [reinterpret(Bool, b == 1.0) for b in test_labels]\n",
    "test_transf_jets = data2hyp(test_jets)\n",
    "test_embedded_jets = bip_data(test_transf_jets)"
   ]
  },
  {
   "cell_type": "code",
   "execution_count": 34,
   "metadata": {},
   "outputs": [
    {
     "data": {
      "text/plain": [
       "0.9251751869444576"
      ]
     },
     "metadata": {},
     "output_type": "display_data"
    }
   ],
   "source": [
    "test_preds = GCT.score(test_embedded_jets, test_labels)"
   ]
  }
 ],
 "metadata": {
  "kernelspec": {
   "display_name": "Julia 1.7.3",
   "language": "julia",
   "name": "julia-1.7"
  },
  "language_info": {
   "file_extension": ".jl",
   "mimetype": "application/julia",
   "name": "julia",
   "version": "1.7.3"
  },
  "orig_nbformat": 4,
  "vscode": {
   "interpreter": {
    "hash": "f075184c5ef2f0b32d809a510d5efd6bb855cd1f11e474e44795b0201961dbbc"
   }
  }
 },
 "nbformat": 4,
 "nbformat_minor": 2
}
