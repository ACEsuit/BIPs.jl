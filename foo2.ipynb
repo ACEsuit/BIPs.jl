{
 "cells": [
  {
   "cell_type": "code",
   "execution_count": 1,
   "metadata": {},
   "outputs": [],
   "source": [
    "using BIPs\n",
    "using Statistics\n",
    "using Pkg.Artifacts"
   ]
  },
  {
   "cell_type": "code",
   "execution_count": 2,
   "metadata": {},
   "outputs": [
    {
     "data": {
      "text/plain": [
       "\"/home/josemm/MyDocs/DataLake/raw/mini_val.h5\""
      ]
     },
     "metadata": {},
     "output_type": "display_data"
    }
   ],
   "source": [
    "sample_path = \"/home/josemm/MyDocs/DataLake/raw/mini_val.h5\""
   ]
  },
  {
   "cell_type": "code",
   "execution_count": 3,
   "metadata": {},
   "outputs": [
    {
     "data": {
      "text/plain": [
       "40299"
      ]
     },
     "metadata": {},
     "output_type": "display_data"
    }
   ],
   "source": [
    "sample_jets, sample_labels = BIPs.read_data(\"TQ\", sample_path)\n",
    "sample_labels = [reinterpret(Bool, b == 1.0) for b in sample_labels]\n",
    "length(sample_labels)"
   ]
  },
  {
   "cell_type": "code",
   "execution_count": 4,
   "metadata": {},
   "outputs": [
    {
     "name": "stdout",
     "output_type": "stream",
     "text": [
      "Transformed jets: 40299\n"
     ]
    }
   ],
   "source": [
    "sample_transf_jets = data2hyp(sample_jets)\n",
    "println(\"Transformed jets: \", length(sample_transf_jets))"
   ]
  },
  {
   "cell_type": "code",
   "execution_count": 5,
   "metadata": {},
   "outputs": [
    {
     "data": {
      "text/plain": [
       "bip_data (generic function with 1 method)"
      ]
     },
     "metadata": {},
     "output_type": "display_data"
    }
   ],
   "source": [
    "f_bip, specs = build_ip(order=4, levels=7)\n",
    "    \n",
    "function bip_data(dataset_jets)\n",
    "    storage = zeros(length(dataset_jets), length(specs))\n",
    "    for i = 1:length(dataset_jets)\n",
    "        storage[i, :] = f_bip(dataset_jets[i])\n",
    "    end\n",
    "    storage[:, 2:end]\n",
    "end"
   ]
  },
  {
   "cell_type": "code",
   "execution_count": 6,
   "metadata": {},
   "outputs": [
    {
     "name": "stdout",
     "output_type": "stream",
     "text": [
      "Embedded sample jets correclty\n"
     ]
    }
   ],
   "source": [
    "embedded_sample = bip_data(sample_transf_jets)\n",
    "println(\"Embedded sample jets correclty\")"
   ]
  },
  {
   "cell_type": "code",
   "execution_count": 9,
   "metadata": {},
   "outputs": [
    {
     "data": {
      "text/plain": [
       "5000-element Vector{Bool}:\n",
       " 1\n",
       " 1\n",
       " 0\n",
       " 0\n",
       " 0\n",
       " 0\n",
       " 0\n",
       " 0\n",
       " 1\n",
       " 1\n",
       " ⋮\n",
       " 1\n",
       " 1\n",
       " 1\n",
       " 0\n",
       " 0\n",
       " 1\n",
       " 0\n",
       " 0\n",
       " 1"
      ]
     },
     "metadata": {},
     "output_type": "display_data"
    }
   ],
   "source": [
    "embedded_sample = embedded_sample[1:5000, :]\n",
    "sample_labels = sample_labels[1:5000]"
   ]
  },
  {
   "cell_type": "code",
   "execution_count": 7,
   "metadata": {},
   "outputs": [],
   "source": [
    "using PyCall\n",
    "@pyimport umap as py_umap;\n",
    "@pyimport sklearn.mixture as sk_mixture"
   ]
  },
  {
   "cell_type": "code",
   "execution_count": 10,
   "metadata": {},
   "outputs": [
    {
     "name": "stdout",
     "output_type": "stream",
     "text": [
      "Scaled embedded sample jets\n"
     ]
    }
   ],
   "source": [
    "using Statistics, LinearAlgebra\n",
    "scale(A) = (A .- mean(A, dims=1)) ./ std(A, dims=1)\n",
    "n_embedded_sample = scale(embedded_sample)\n",
    "println(\"Scaled embedded sample jets\")"
   ]
  },
  {
   "cell_type": "code",
   "execution_count": 29,
   "metadata": {},
   "outputs": [
    {
     "ename": "InterruptException",
     "evalue": "InterruptException:",
     "output_type": "error",
     "traceback": [
      "InterruptException:\n",
      "\n",
      "Stacktrace:\n",
      " [1] sigatomic_end\n",
      "   @ ./c.jl:437 [inlined]\n",
      " [2] disable_sigint\n",
      "   @ ./c.jl:460 [inlined]\n",
      " [3] __pycall!\n",
      "   @ ~/.julia/packages/PyCall/7a7w0/src/pyfncall.jl:42 [inlined]\n",
      " [4] _pycall!(ret::PyObject, o::PyObject, args::Tuple{Matrix{Float64}}, nargs::Int64, kw::Ptr{Nothing})\n",
      "   @ PyCall ~/.julia/packages/PyCall/7a7w0/src/pyfncall.jl:29\n",
      " [5] _pycall!\n",
      "   @ ~/.julia/packages/PyCall/7a7w0/src/pyfncall.jl:11 [inlined]\n",
      " [6] #_#114\n",
      "   @ ~/.julia/packages/PyCall/7a7w0/src/pyfncall.jl:86 [inlined]\n",
      " [7] (::PyObject)(args::Matrix{Float64})\n",
      "   @ PyCall ~/.julia/packages/PyCall/7a7w0/src/pyfncall.jl:86\n",
      " [8] top-level scope\n",
      "   @ ~/MyDocs/BIPs.jl/foo2.ipynb:1"
     ]
    }
   ],
   "source": [
    "umap = py_umap.UMAP(n_neighbors=200, min_dist=0.5)[:fit_transform](n_embedded_sample)\n",
    "print(\"UMAP done\")"
   ]
  },
  {
   "cell_type": "code",
   "execution_count": 19,
   "metadata": {},
   "outputs": [],
   "source": [
    "using Plots\n",
    "using DataFrames"
   ]
  },
  {
   "cell_type": "code",
   "execution_count": 14,
   "metadata": {},
   "outputs": [
    {
     "name": "stdout",
     "output_type": "stream",
     "text": []
    },
    {
     "name": "stdout",
     "output_type": "stream",
     "text": []
    }
   ],
   "source": [
    "bkg = [label==false for label in sample_labels ]\n",
    "display(scatter(umap[:, 1][bkg], umap[:,2][bkg], sample_labels[bkg], color=\"red\", size=10, label=\"Background\"))\n",
    "p = scatter!(umap[:, 1][sample_labels], umap[:,2][sample_labels], sample_labels[sample_labels], color=\"Blue\", size=10, label=\"Signal\")"
   ]
  },
  {
   "cell_type": "code",
   "execution_count": 20,
   "metadata": {},
   "outputs": [
    {
     "data": {
      "text/html": [
       "<div class=\"data-frame\"><p>5,000 rows × 3 columns</p><table class=\"data-frame\"><thead><tr><th></th><th>comp1</th><th>comp2</th><th>label</th></tr><tr><th></th><th title=\"Float32\">Float32</th><th title=\"Float32\">Float32</th><th title=\"Bool\">Bool</th></tr></thead><tbody><tr><th>1</th><td>0.115081</td><td>10.0002</td><td>1</td></tr><tr><th>2</th><td>1.12446</td><td>8.05329</td><td>1</td></tr><tr><th>3</th><td>13.0707</td><td>3.70003</td><td>0</td></tr><tr><th>4</th><td>14.4694</td><td>2.57212</td><td>0</td></tr><tr><th>5</th><td>-0.439803</td><td>6.82153</td><td>0</td></tr><tr><th>6</th><td>14.7446</td><td>-0.601483</td><td>0</td></tr><tr><th>7</th><td>9.84765</td><td>7.33783</td><td>0</td></tr><tr><th>8</th><td>0.787353</td><td>11.1745</td><td>0</td></tr><tr><th>9</th><td>13.4167</td><td>9.29626</td><td>1</td></tr><tr><th>10</th><td>0.611978</td><td>10.7088</td><td>1</td></tr><tr><th>11</th><td>5.35964</td><td>13.5867</td><td>1</td></tr><tr><th>12</th><td>11.0651</td><td>12.7997</td><td>1</td></tr><tr><th>13</th><td>9.15345</td><td>11.1753</td><td>1</td></tr><tr><th>14</th><td>6.19579</td><td>15.5416</td><td>1</td></tr><tr><th>15</th><td>-2.01791</td><td>7.62319</td><td>0</td></tr><tr><th>16</th><td>12.6417</td><td>4.05098</td><td>0</td></tr><tr><th>17</th><td>12.4037</td><td>5.60771</td><td>0</td></tr><tr><th>18</th><td>11.7925</td><td>5.7892</td><td>0</td></tr><tr><th>19</th><td>-2.41454</td><td>-1.33443</td><td>0</td></tr><tr><th>20</th><td>8.78134</td><td>9.40623</td><td>0</td></tr><tr><th>21</th><td>5.80291</td><td>14.271</td><td>1</td></tr><tr><th>22</th><td>7.30264</td><td>12.4265</td><td>1</td></tr><tr><th>23</th><td>8.48163</td><td>8.67127</td><td>0</td></tr><tr><th>24</th><td>6.83199</td><td>12.5821</td><td>1</td></tr><tr><th>&vellip;</th><td>&vellip;</td><td>&vellip;</td><td>&vellip;</td></tr></tbody></table></div>"
      ],
      "text/latex": [
       "\\begin{tabular}{r|ccc}\n",
       "\t& comp1 & comp2 & label\\\\\n",
       "\t\\hline\n",
       "\t& Float32 & Float32 & Bool\\\\\n",
       "\t\\hline\n",
       "\t1 & 0.115081 & 10.0002 & 1 \\\\\n",
       "\t2 & 1.12446 & 8.05329 & 1 \\\\\n",
       "\t3 & 13.0707 & 3.70003 & 0 \\\\\n",
       "\t4 & 14.4694 & 2.57212 & 0 \\\\\n",
       "\t5 & -0.439803 & 6.82153 & 0 \\\\\n",
       "\t6 & 14.7446 & -0.601483 & 0 \\\\\n",
       "\t7 & 9.84765 & 7.33783 & 0 \\\\\n",
       "\t8 & 0.787353 & 11.1745 & 0 \\\\\n",
       "\t9 & 13.4167 & 9.29626 & 1 \\\\\n",
       "\t10 & 0.611978 & 10.7088 & 1 \\\\\n",
       "\t11 & 5.35964 & 13.5867 & 1 \\\\\n",
       "\t12 & 11.0651 & 12.7997 & 1 \\\\\n",
       "\t13 & 9.15345 & 11.1753 & 1 \\\\\n",
       "\t14 & 6.19579 & 15.5416 & 1 \\\\\n",
       "\t15 & -2.01791 & 7.62319 & 0 \\\\\n",
       "\t16 & 12.6417 & 4.05098 & 0 \\\\\n",
       "\t17 & 12.4037 & 5.60771 & 0 \\\\\n",
       "\t18 & 11.7925 & 5.7892 & 0 \\\\\n",
       "\t19 & -2.41454 & -1.33443 & 0 \\\\\n",
       "\t20 & 8.78134 & 9.40623 & 0 \\\\\n",
       "\t21 & 5.80291 & 14.271 & 1 \\\\\n",
       "\t22 & 7.30264 & 12.4265 & 1 \\\\\n",
       "\t23 & 8.48163 & 8.67127 & 0 \\\\\n",
       "\t24 & 6.83199 & 12.5821 & 1 \\\\\n",
       "\t$\\dots$ & $\\dots$ & $\\dots$ & $\\dots$ \\\\\n",
       "\\end{tabular}\n"
      ],
      "text/plain": [
       "\u001b[1m5000×3 DataFrame\u001b[0m\n",
       "\u001b[1m  Row \u001b[0m│\u001b[1m comp1     \u001b[0m\u001b[1m comp2     \u001b[0m\u001b[1m label \u001b[0m\n",
       "\u001b[1m      \u001b[0m│\u001b[90m Float32   \u001b[0m\u001b[90m Float32   \u001b[0m\u001b[90m Bool  \u001b[0m\n",
       "──────┼─────────────────────────────\n",
       "    1 │  0.115081  10.0002     true\n",
       "    2 │  1.12446    8.05329    true\n",
       "    3 │ 13.0707     3.70003   false\n",
       "    4 │ 14.4694     2.57212   false\n",
       "    5 │ -0.439803   6.82153   false\n",
       "    6 │ 14.7446    -0.601483  false\n",
       "    7 │  9.84765    7.33783   false\n",
       "    8 │  0.787353  11.1745    false\n",
       "  ⋮   │     ⋮          ⋮        ⋮\n",
       " 4994 │ -2.10475    7.84284    true\n",
       " 4995 │ 10.7157    10.6456    false\n",
       " 4996 │ 12.6484     6.53407   false\n",
       " 4997 │ -2.95454    5.00291    true\n",
       " 4998 │  6.88757    9.69084   false\n",
       " 4999 │ 11.5313     7.46631   false\n",
       " 5000 │ -1.05724    8.73866    true\n",
       "\u001b[36m                   4985 rows omitted\u001b[0m"
      ]
     },
     "metadata": {},
     "output_type": "display_data"
    }
   ],
   "source": [
    "df = DataFrame(comp1 = vec(umap[:, 1]), comp2 = vec(umap[:, 2]), label = vec(sample_labels))"
   ]
  },
  {
   "cell_type": "code",
   "execution_count": 24,
   "metadata": {},
   "outputs": [],
   "source": [
    "using DelimitedFiles, CSV"
   ]
  },
  {
   "cell_type": "markdown",
   "metadata": {},
   "source": [
    "writedlm( \"FileName.csv\",  umap, ',')"
   ]
  },
  {
   "cell_type": "code",
   "execution_count": 22,
   "metadata": {},
   "outputs": [
    {
     "data": {
      "text/plain": [
       "40299"
      ]
     },
     "metadata": {},
     "output_type": "display_data"
    }
   ],
   "source": [
    "length(sample_jets)"
   ]
  },
  {
   "cell_type": "code",
   "execution_count": 27,
   "metadata": {},
   "outputs": [
    {
     "data": {
      "text/plain": [
       "\"/home/josemm/MyDocs/DataLake/umap2.csv\""
      ]
     },
     "metadata": {},
     "output_type": "display_data"
    }
   ],
   "source": [
    "CSV.write(\"/home/josemm/MyDocs/DataLake/umap2.csv\",  Tables.table(umap), writeheader=false)"
   ]
  },
  {
   "cell_type": "code",
   "execution_count": 28,
   "metadata": {},
   "outputs": [
    {
     "data": {
      "text/plain": [
       "\"/home/josemm/MyDocs/DataLake/labels2.csv\""
      ]
     },
     "metadata": {},
     "output_type": "display_data"
    }
   ],
   "source": [
    "CSV.write(\"/home/josemm/MyDocs/DataLake/labels2.csv\",  Tables.table(sample_labels), writeheader=true)"
   ]
  },
  {
   "cell_type": "code",
   "execution_count": 19,
   "metadata": {},
   "outputs": [],
   "source": []
  }
 ],
 "metadata": {
  "kernelspec": {
   "display_name": "Julia 1.7.3",
   "language": "julia",
   "name": "julia-1.7"
  },
  "language_info": {
   "file_extension": ".jl",
   "mimetype": "application/julia",
   "name": "julia",
   "version": "1.7.3"
  },
  "orig_nbformat": 4,
  "vscode": {
   "interpreter": {
    "hash": "f075184c5ef2f0b32d809a510d5efd6bb855cd1f11e474e44795b0201961dbbc"
   }
  }
 },
 "nbformat": 4,
 "nbformat_minor": 2
}
